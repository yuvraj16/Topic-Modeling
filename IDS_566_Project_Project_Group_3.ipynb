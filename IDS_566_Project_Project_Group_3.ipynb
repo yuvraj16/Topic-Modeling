{
  "nbformat": 4,
  "nbformat_minor": 0,
  "metadata": {
    "colab": {
      "name": "IDS 566_Project.ipynb",
      "version": "0.3.2",
      "provenance": []
    },
    "language_info": {
      "codemirror_mode": {
        "name": "ipython",
        "version": 3
      },
      "file_extension": ".py",
      "mimetype": "text/x-python",
      "name": "python",
      "nbconvert_exporter": "python",
      "pygments_lexer": "ipython3",
      "version": "3.5.6"
    },
    "kernelspec": {
      "display_name": "Python [default]",
      "language": "python",
      "name": "python3"
    }
  },
  "cells": [
    {
      "cell_type": "markdown",
      "metadata": {
        "id": "fYQ9iWWhuzpq",
        "colab_type": "text"
      },
      "source": [
        "## Text Analytics - \"20 News Groups\"\n",
        "### Team Members -\n",
        "### Shikha Singh\n",
        "### Yuvraj Goyal\n",
        "### Ankit kumar Singh"
      ]
    },
    {
      "cell_type": "markdown",
      "metadata": {
        "id": "E7O0wJshuzpr",
        "colab_type": "text"
      },
      "source": [
        "## Importing Packages"
      ]
    },
    {
      "cell_type": "code",
      "metadata": {
        "id": "rS7okOn8uzps",
        "colab_type": "code",
        "colab": {}
      },
      "source": [
        "import re    # for regular expressions\n",
        "import nltk  # for text manipulation\n",
        "import string\n",
        "import warnings\n",
        "import numpy as np\n",
        "import pandas as pd \n",
        "import seaborn as sns \n",
        "import matplotlib.pyplot as plt \n",
        "from sklearn import datasets\n",
        "\n",
        "pd.set_option(\"display.max_colwidth\", 200)\n",
        "warnings.filterwarnings(\"ignore\", category=DeprecationWarning)\n",
        "\n",
        "%matplotlib inline\n",
        "\n",
        "import gensim\n",
        "from gensim.utils import simple_preprocess\n",
        "from gensim.parsing.preprocessing import STOPWORDS\n",
        "from nltk.stem import WordNetLemmatizer, SnowballStemmer\n",
        "from nltk.stem.porter import *\n",
        "import numpy as np\n",
        "np.random.seed(400)"
      ],
      "execution_count": 0,
      "outputs": []
    },
    {
      "cell_type": "markdown",
      "metadata": {
        "id": "0TjU8j65uzpv",
        "colab_type": "text"
      },
      "source": [
        "#### Downloading wordnet NLTK package"
      ]
    },
    {
      "cell_type": "code",
      "metadata": {
        "id": "EoNpbh5Yuzpv",
        "colab_type": "code",
        "colab": {},
        "outputId": "39c66c77-e67e-4e43-ebe1-603473041834"
      },
      "source": [
        "import nltk\n",
        "nltk.download('wordnet')"
      ],
      "execution_count": 0,
      "outputs": [
        {
          "output_type": "stream",
          "text": [
            "[nltk_data] Downloading package wordnet to C:\\nltk_data...\n",
            "[nltk_data]   Package wordnet is already up-to-date!\n"
          ],
          "name": "stdout"
        },
        {
          "output_type": "execute_result",
          "data": {
            "text/plain": [
              "True"
            ]
          },
          "metadata": {
            "tags": []
          },
          "execution_count": 327
        }
      ]
    },
    {
      "cell_type": "markdown",
      "metadata": {
        "id": "3EUGCpTruzpz",
        "colab_type": "text"
      },
      "source": [
        "## DATA LOADING"
      ]
    },
    {
      "cell_type": "code",
      "metadata": {
        "id": "5vdjOkdWuzp0",
        "colab_type": "code",
        "colab": {}
      },
      "source": [
        "#Loading the 20 Newsgroup data set. Example loading the training data.\n",
        "from sklearn.datasets import fetch_20newsgroups\n",
        "mydata_train = fetch_20newsgroups(subset='train', shuffle=True,remove=('headers', 'footers', 'quotes'))"
      ],
      "execution_count": 0,
      "outputs": []
    },
    {
      "cell_type": "markdown",
      "metadata": {
        "id": "vWC60kaVuzp2",
        "colab_type": "text"
      },
      "source": [
        "#### remove should be a tuple containing any subset of ('headers', 'footers', 'quotes'), telling it to remove headers, signature blocks, and quotation blocks respectively to help clean the data from unwanted test such has \"from\"..\"to\"...\"email\""
      ]
    },
    {
      "cell_type": "markdown",
      "metadata": {
        "id": "VVMlVWSevW1z",
        "colab_type": "text"
      },
      "source": [
        "### Importing Training Data from 20NewsGorup"
      ]
    },
    {
      "cell_type": "code",
      "metadata": {
        "id": "enRWyvG3uzp6",
        "colab_type": "code",
        "colab": {}
      },
      "source": [
        "mydata_train_data =mydata_train.data\n",
        "mydata_train_labels = mydata_train.target"
      ],
      "execution_count": 0,
      "outputs": []
    },
    {
      "cell_type": "markdown",
      "metadata": {
        "id": "Sl_l86JUvcsR",
        "colab_type": "text"
      },
      "source": [
        "### Importing Testing Data from 20NewsGorup"
      ]
    },
    {
      "cell_type": "code",
      "metadata": {
        "id": "26cCwZSiuzp8",
        "colab_type": "code",
        "colab": {}
      },
      "source": [
        "mydata_test=fetch_20newsgroups(subset='test',shuffle=True,remove=('headers', 'footers', 'quotes')) #loading test data\n",
        "mydata_test_data=mydata_test.data \n",
        "mydata_test_labels=mydata_test.target"
      ],
      "execution_count": 0,
      "outputs": []
    },
    {
      "cell_type": "markdown",
      "metadata": {
        "id": "0tdr11r2uzp_",
        "colab_type": "text"
      },
      "source": [
        "## DATA INSPECTION"
      ]
    },
    {
      "cell_type": "code",
      "metadata": {
        "id": "aXYTPgURuzqA",
        "colab_type": "code",
        "colab": {},
        "outputId": "cd608929-04b7-42f8-8ccb-4a35b8057850"
      },
      "source": [
        "# printing all target names - article names in our dataset\n",
        "mydata_train.target_names"
      ],
      "execution_count": 0,
      "outputs": [
        {
          "output_type": "execute_result",
          "data": {
            "text/plain": [
              "['alt.atheism',\n",
              " 'comp.graphics',\n",
              " 'comp.os.ms-windows.misc',\n",
              " 'comp.sys.ibm.pc.hardware',\n",
              " 'comp.sys.mac.hardware',\n",
              " 'comp.windows.x',\n",
              " 'misc.forsale',\n",
              " 'rec.autos',\n",
              " 'rec.motorcycles',\n",
              " 'rec.sport.baseball',\n",
              " 'rec.sport.hockey',\n",
              " 'sci.crypt',\n",
              " 'sci.electronics',\n",
              " 'sci.med',\n",
              " 'sci.space',\n",
              " 'soc.religion.christian',\n",
              " 'talk.politics.guns',\n",
              " 'talk.politics.mideast',\n",
              " 'talk.politics.misc',\n",
              " 'talk.religion.misc']"
            ]
          },
          "metadata": {
            "tags": []
          },
          "execution_count": 451
        }
      ]
    },
    {
      "cell_type": "code",
      "metadata": {
        "id": "zt6XnphouzqD",
        "colab_type": "code",
        "colab": {},
        "outputId": "b41e9503-c3d6-49be-97b8-6c6a854148dc"
      },
      "source": [
        "#prints first line of the first data file\n",
        "print(\"\\n\".join(mydata_train.data[0].split(\"\\n\")[:3])) "
      ],
      "execution_count": 0,
      "outputs": [
        {
          "output_type": "stream",
          "text": [
            "I was wondering if anyone out there could enlighten me on this car I saw\n",
            "the other day. It was a 2-door sports car, looked to be from the late 60s/\n",
            "early 70s. It was called a Bricklin. The doors were really small. In addition,\n"
          ],
          "name": "stdout"
        }
      ]
    },
    {
      "cell_type": "code",
      "metadata": {
        "id": "6xO8GZO7uzqG",
        "colab_type": "code",
        "colab": {},
        "outputId": "a47b0b04-6e5c-40d0-f267-7a6f11a0c89d"
      },
      "source": [
        "#checking the type\n",
        "type(mydata_train)"
      ],
      "execution_count": 0,
      "outputs": [
        {
          "output_type": "execute_result",
          "data": {
            "text/plain": [
              "sklearn.datasets.base.Bunch"
            ]
          },
          "metadata": {
            "tags": []
          },
          "execution_count": 453
        }
      ]
    },
    {
      "cell_type": "code",
      "metadata": {
        "scrolled": true,
        "id": "1QHx567kuzqK",
        "colab_type": "code",
        "colab": {},
        "outputId": "922a21b8-6c50-47fa-e37d-45812e9d283b"
      },
      "source": [
        "print(mydata_train.keys()) # number of columns in our dataset"
      ],
      "execution_count": 0,
      "outputs": [
        {
          "output_type": "stream",
          "text": [
            "dict_keys(['target', 'data', 'DESCR', 'filenames', 'description', 'target_names'])\n"
          ],
          "name": "stdout"
        }
      ]
    },
    {
      "cell_type": "code",
      "metadata": {
        "id": "pg7dj1NouzqP",
        "colab_type": "code",
        "colab": {},
        "outputId": "d90ef277-dfcd-4bb7-9a14-29174c2e23f4"
      },
      "source": [
        "mydata_train.filenames"
      ],
      "execution_count": 0,
      "outputs": [
        {
          "output_type": "execute_result",
          "data": {
            "text/plain": [
              "array(['C:\\\\Users\\\\singh\\\\scikit_learn_data\\\\20news_home\\\\20news-bydate-train\\\\rec.autos\\\\102994',\n",
              "       'C:\\\\Users\\\\singh\\\\scikit_learn_data\\\\20news_home\\\\20news-bydate-train\\\\comp.sys.mac.hardware\\\\51861',\n",
              "       'C:\\\\Users\\\\singh\\\\scikit_learn_data\\\\20news_home\\\\20news-bydate-train\\\\comp.sys.mac.hardware\\\\51879',\n",
              "       ...,\n",
              "       'C:\\\\Users\\\\singh\\\\scikit_learn_data\\\\20news_home\\\\20news-bydate-train\\\\comp.sys.ibm.pc.hardware\\\\60695',\n",
              "       'C:\\\\Users\\\\singh\\\\scikit_learn_data\\\\20news_home\\\\20news-bydate-train\\\\comp.graphics\\\\38319',\n",
              "       'C:\\\\Users\\\\singh\\\\scikit_learn_data\\\\20news_home\\\\20news-bydate-train\\\\rec.motorcycles\\\\104440'],\n",
              "      dtype='<U95')"
            ]
          },
          "metadata": {
            "tags": []
          },
          "execution_count": 455
        }
      ]
    },
    {
      "cell_type": "code",
      "metadata": {
        "scrolled": true,
        "id": "LkJfjA7vuzqT",
        "colab_type": "code",
        "colab": {},
        "outputId": "3765ceb4-57af-495c-df02-6ac8363430d3"
      },
      "source": [
        "# Checking the shape of our traing data\n",
        "print(mydata_train.filenames.shape, mydata_train.target.shape) "
      ],
      "execution_count": 0,
      "outputs": [
        {
          "output_type": "stream",
          "text": [
            "(11314,) (11314,)\n"
          ],
          "name": "stdout"
        }
      ]
    },
    {
      "cell_type": "code",
      "metadata": {
        "scrolled": true,
        "id": "G1wzYEgvuzqW",
        "colab_type": "code",
        "colab": {},
        "outputId": "e26e517b-575b-4758-85db-821f35a793a5"
      },
      "source": [
        "print (\"Total Number of Training data: \",len(mydata_train_data))\n",
        "print (\"Total Number of Training Labels: \",len(mydata_train_labels))"
      ],
      "execution_count": 0,
      "outputs": [
        {
          "output_type": "stream",
          "text": [
            "Total Number of Training data:  11314\n",
            "Total Number of Training Labels:  11314\n"
          ],
          "name": "stdout"
        }
      ]
    },
    {
      "cell_type": "code",
      "metadata": {
        "id": "kr6t8UPouzqZ",
        "colab_type": "code",
        "colab": {},
        "outputId": "2e939f60-ba59-4df8-f229-cc0c98a8e25f"
      },
      "source": [
        "print (\"Total Number of Testing data: \",len(mydata_test_data))\n",
        "print (\"Total Number of Testing Labels: \",len(mydata_test_labels))"
      ],
      "execution_count": 0,
      "outputs": [
        {
          "output_type": "stream",
          "text": [
            "Total Number of Testing data:  7532\n",
            "Total Number of Testing Labels:  7532\n"
          ],
          "name": "stdout"
        }
      ]
    },
    {
      "cell_type": "markdown",
      "metadata": {
        "id": "41BTiT0Vuzqe",
        "colab_type": "text"
      },
      "source": [
        "## Exploratory Analysis"
      ]
    },
    {
      "cell_type": "code",
      "metadata": {
        "id": "AqBIoPLPuzqf",
        "colab_type": "code",
        "colab": {}
      },
      "source": [
        "# converting to dataframe for easier exploratory analysis\n",
        "\n",
        "data=pd.DataFrame(mydata_train['data'])\n",
        "target = pd.DataFrame(mydata_train['target'])\n",
        "data.columns=['data']\n",
        "data['target']=target\n",
        "mydata_train_df = data"
      ],
      "execution_count": 0,
      "outputs": []
    },
    {
      "cell_type": "code",
      "metadata": {
        "id": "OWzi5TEruzql",
        "colab_type": "code",
        "colab": {},
        "outputId": "c089f515-f05d-4428-fb40-f684cb0fa7c5"
      },
      "source": [
        "mydata_train_df[0:]"
      ],
      "execution_count": 0,
      "outputs": [
        {
          "output_type": "execute_result",
          "data": {
            "text/html": [
              "<div>\n",
              "<table border=\"1\" class=\"dataframe\">\n",
              "  <thead>\n",
              "    <tr style=\"text-align: right;\">\n",
              "      <th></th>\n",
              "      <th>data</th>\n",
              "      <th>target</th>\n",
              "    </tr>\n",
              "  </thead>\n",
              "  <tbody>\n",
              "    <tr>\n",
              "      <th>0</th>\n",
              "      <td>I was wondering if anyone out there could enlighten me on this car I saw\\nthe other day. It was a 2-door sports car, looked to be from the late 60s/\\nearly 70s. It was called a Bricklin. The doors...</td>\n",
              "      <td>7</td>\n",
              "    </tr>\n",
              "    <tr>\n",
              "      <th>1</th>\n",
              "      <td>A fair number of brave souls who upgraded their SI clock oscillator have\\nshared their experiences for this poll. Please send a brief message detailing\\nyour experiences with the procedure. Top sp...</td>\n",
              "      <td>4</td>\n",
              "    </tr>\n",
              "    <tr>\n",
              "      <th>2</th>\n",
              "      <td>well folks, my mac plus finally gave up the ghost this weekend after\\nstarting life as a 512k way back in 1985.  sooo, i'm in the market for a\\nnew machine a bit sooner than i intended to be...\\n\\...</td>\n",
              "      <td>4</td>\n",
              "    </tr>\n",
              "    <tr>\n",
              "      <th>3</th>\n",
              "      <td>\\nDo you have Weitek's address/phone number?  I'd like to get some information\\nabout this chip.\\n</td>\n",
              "      <td>1</td>\n",
              "    </tr>\n",
              "    <tr>\n",
              "      <th>4</th>\n",
              "      <td>From article &lt;C5owCB.n3p@world.std.com&gt;, by tombaker@world.std.com (Tom A Baker):\\n\\n\\nMy understanding is that the 'expected errors' are basically\\nknown bugs in the warning system software - thi...</td>\n",
              "      <td>14</td>\n",
              "    </tr>\n",
              "    <tr>\n",
              "      <th>5</th>\n",
              "      <td>\\n\\n\\n\\n\\nOf course.  The term must be rigidly defined in any bill.\\n\\n\\nI doubt she uses this term for that.  You are using a quote allegedly\\nfrom her, can you back it up?\\n\\n\\n\\n\\nI read the ar...</td>\n",
              "      <td>16</td>\n",
              "    </tr>\n",
              "    <tr>\n",
              "      <th>6</th>\n",
              "      <td>There were a few people who responded to my request for info on\\ntreatment for astrocytomas through email, whom I couldn't thank\\ndirectly because of mail-bouncing probs (Sean, Debra, and Sharon)....</td>\n",
              "      <td>13</td>\n",
              "    </tr>\n",
              "    <tr>\n",
              "      <th>7</th>\n",
              "      <td>\\nALL this shows is that YOU don't know much about SCSI.\\n\\nSCSI-1 {with a SCSI-1 controler chip} range is indeed 0-5MB/s\\nand...</td>\n",
              "      <td>3</td>\n",
              "    </tr>\n",
              "    <tr>\n",
              "      <th>8</th>\n",
              "      <td>I have win 3.0 and downloaded several icons and BMP's but I can't figure out\\nhow to change the \"wallpaper\" or use the icons.  Any help would be appreciated.\\n\\n\\nThanx,\\n\\n-Brando</td>\n",
              "      <td>2</td>\n",
              "    </tr>\n",
              "    <tr>\n",
              "      <th>9</th>\n",
              "      <td>\\n\\n\\nI've had the board for over a year, and it does work with Diskdoubler,\\nbut not with Autodoubler, due to a licensing problem with Stac Technologies,\\nthe owners of the board's compression te...</td>\n",
              "      <td>4</td>\n",
              "    </tr>\n",
              "    <tr>\n",
              "      <th>10</th>\n",
              "      <td>I have a line on a Ducati 900GTS 1978 model with 17k on the clock.  Runs\\nvery well, paint is the bronze/brown/orange faded out, leaks a bit of oil\\nand pops out of 1st with hard accel.  The shop ...</td>\n",
              "      <td>8</td>\n",
              "    </tr>\n",
              "    <tr>\n",
              "      <th>11</th>\n",
              "      <td>\\nYep, that's pretty much it. I'm not a Jew but I understand that this is the\\nJewish way of thinking. However, the Jews believe that the Covenant between\\nYHWH and the Patriarchs (Abraham and Mos...</td>\n",
              "      <td>19</td>\n",
              "    </tr>\n",
              "    <tr>\n",
              "      <th>12</th>\n",
              "      <td>--\\n</td>\n",
              "      <td>4</td>\n",
              "    </tr>\n",
              "    <tr>\n",
              "      <th>13</th>\n",
              "      <td>\\n   {Description of \"External Tank\" option for SSF redesign deleted}\\n\\n\\nYo Ken, let's keep on-top of things! Both the \"External Tank\" and\\n\"Wingless Orbiter\" options have been deleted from the ...</td>\n",
              "      <td>14</td>\n",
              "    </tr>\n",
              "    <tr>\n",
              "      <th>14</th>\n",
              "      <td>Reduced Prices! \\nI have a list of things forsale on behalf of my brother, who's moving (moved\\nalready)\\n\\n\\t\\t\\t\\t\\t\\t\\t\\tOffer:\\n1) Black and Decker Duster Plus (Portable Hand Vaccum)\\t\\n \\tpur...</td>\n",
              "      <td>6</td>\n",
              "    </tr>\n",
              "    <tr>\n",
              "      <th>15</th>\n",
              "      <td>\\nDon't be so sure.  Look what happened to Japanese citizens in the US during\\nWorld War II.  If you're prepared to say \"Let's round these people up and\\nstick them in a concentration camp without...</td>\n",
              "      <td>0</td>\n",
              "    </tr>\n",
              "    <tr>\n",
              "      <th>16</th>\n",
              "      <td>\\nI certainly do use it whenever I have to do TIFF, and it usually works\\nvery well.  That's not my point.  I'm &gt;philosophically&lt; opposed to it\\nbecause of its complexity.\\n\\nThis complexity has l...</td>\n",
              "      <td>1</td>\n",
              "    </tr>\n",
              "    <tr>\n",
              "      <th>17</th>\n",
              "      <td>I recently posted an article asking what kind of rates single, male\\ndrivers under 25 yrs old were paying on performance cars. Here's a summary of\\nthe replies I received.\\n \\n \\n \\n \\n-----------...</td>\n",
              "      <td>7</td>\n",
              "    </tr>\n",
              "    <tr>\n",
              "      <th>18</th>\n",
              "      <td>I would like to be able to amplify a voltage signal which is\\noutput from a thermocouple, preferably by a factor of\\n100 or 1000 ---- so that the resulting voltage can be fed\\nmore easily into a p...</td>\n",
              "      <td>12</td>\n",
              "    </tr>\n",
              "    <tr>\n",
              "      <th>19</th>\n",
              "      <td>QUESTION:\\n  What is the EXACT entry (parameter and syntax please), in the X-Terminal\\nconfiguration file (loaded when the X-Terminal boots), to add another system \\nto the TCP/IP access control l...</td>\n",
              "      <td>5</td>\n",
              "    </tr>\n",
              "    <tr>\n",
              "      <th>20</th>\n",
              "      <td>\\n[...]\\n\\nThese don't seem like \"little things\" to me.  At least, they are orders\\nworse than the motto.  Do you think that the motto is a \"little thing\"\\nthat will lead to worse things?</td>\n",
              "      <td>0</td>\n",
              "    </tr>\n",
              "    <tr>\n",
              "      <th>21</th>\n",
              "      <td>\\nI think that Mike Foligno was the captain of the Sabres when he\\ngot traded to the Leafs. Also, wasn't Rick Vaive the captain of\\nthe Leafs when he got traded to Chicago (with Steve Thomas for\\n...</td>\n",
              "      <td>10</td>\n",
              "    </tr>\n",
              "    <tr>\n",
              "      <th>22</th>\n",
              "      <td>\\n)&gt;&gt;   \"The Catalog of Personal Computing Tools for Engineers and Scien-\\n)&gt;&gt;   tists\" lists hardware cards and application software packages for \\n)&gt;&gt;   PC/XT/AT/PS/2 class machines.  Focus is o...</td>\n",
              "      <td>6</td>\n",
              "    </tr>\n",
              "    <tr>\n",
              "      <th>23</th>\n",
              "      <td>\\n\\n\\n\\nThe control box of the Window itself (upper left corner of the window, single\\nclick, am I being too simplistic?) has a font option. The 8 X 12 is about the\\nbiggest one I can use without ...</td>\n",
              "      <td>2</td>\n",
              "    </tr>\n",
              "    <tr>\n",
              "      <th>24</th>\n",
              "      <td>I don't know about the specific problem mentioned in your\\nmessage, but I definitely had SCSI problems between my\\nQ700 and my venerable Jasmine Megadrive 10 cartridge\\ndrives.  My solution was to...</td>\n",
              "      <td>4</td>\n",
              "    </tr>\n",
              "    <tr>\n",
              "      <th>25</th>\n",
              "      <td>Hello,\\n     I am looking to add voice input capability to a user interface I am\\ndeveloping on an HP730 (UNIX) workstation.  I would greatly appreciate \\ninformation anyone would care to offer ab...</td>\n",
              "      <td>1</td>\n",
              "    </tr>\n",
              "    <tr>\n",
              "      <th>26</th>\n",
              "      <td>\\n       Actually, fossil fuel plants run hotter than the usual \\nboiling-water reactor nuclear plants.  (There's a gripe in the industry\\nthat nuclear power uses 1900 vintage steam technology).  ...</td>\n",
              "      <td>12</td>\n",
              "    </tr>\n",
              "    <tr>\n",
              "      <th>27</th>\n",
              "      <td>Doug Roberts - Ken Hill for NL MVP!!\\n\\t       Let's go 'Spos\\n</td>\n",
              "      <td>9</td>\n",
              "    </tr>\n",
              "    <tr>\n",
              "      <th>28</th>\n",
              "      <td>\\nYes.\\n\\n(I am adamantly an environmentalist.  I will not use styrofoam table service.\\nPlease keep that in mind as you read this post - I do not wish to attack\\nenvironmentalism)\\n\\nA half truth...</td>\n",
              "      <td>15</td>\n",
              "    </tr>\n",
              "    <tr>\n",
              "      <th>29</th>\n",
              "      <td>\\nIt depends on your priorities.  A lot of people put higher priorities\\non gas mileage and cost than on safety, buying \"unsafe\" econoboxes\\ninstead of Volvos.  I personally take a middle ground -...</td>\n",
              "      <td>7</td>\n",
              "    </tr>\n",
              "    <tr>\n",
              "      <th>...</th>\n",
              "      <td>...</td>\n",
              "      <td>...</td>\n",
              "    </tr>\n",
              "    <tr>\n",
              "      <th>11284</th>\n",
              "      <td>\\nAnd they're more like 1024x1024x8 charging &amp; discharging capacitors in a DRAM\\nSIMM =-)</td>\n",
              "      <td>4</td>\n",
              "    </tr>\n",
              "    <tr>\n",
              "      <th>11285</th>\n",
              "      <td>\\nSorry Len, this is exactly how he suffered from being rushed to the bigs.\\nBeing overweight and having no work ethic, leading to being injury prone with\\nnothing to loose, might have been correc...</td>\n",
              "      <td>9</td>\n",
              "    </tr>\n",
              "    <tr>\n",
              "      <th>11286</th>\n",
              "      <td>\\n\\n\\n\\n\\nThe HGA isn't all that reflective in the wavelengths that might \"cook the\\nfocal elements\", nor is its figure good on those scales--the problem is\\nthat the antenna _itself_ could not be...</td>\n",
              "      <td>14</td>\n",
              "    </tr>\n",
              "    <tr>\n",
              "      <th>11287</th>\n",
              "      <td>\\n\\n\\nAll of this is fine.  I never said that Murray was a bad GM.  I merely said\\nthat he isn't the best GM in hockey- or even a contender for that honor.\\nIf Murray is as great as you claim- the...</td>\n",
              "      <td>10</td>\n",
              "    </tr>\n",
              "    <tr>\n",
              "      <th>11288</th>\n",
              "      <td>\\n\\n\\n\\n\\tI think the Manta is the European name for the \"GT.\"  I'm pretty sure\\nthat the only Kadett's sold here were/are the Pontiac LeMans.  I think the\\nGT is just an early '70s to mid '70s Ma...</td>\n",
              "      <td>7</td>\n",
              "    </tr>\n",
              "    <tr>\n",
              "      <th>11289</th>\n",
              "      <td>I have a Diamond Speedstar 24X board that I want to program\\nfor 24 bit 640x480 graphics, or possibly 800x600 16 bit color.\\nDoes anybody have any libraries supporting these modes on this\\nboard? ...</td>\n",
              "      <td>1</td>\n",
              "    </tr>\n",
              "    <tr>\n",
              "      <th>11290</th>\n",
              "      <td>\\n\\n\\n\\n    Apple has really confused people with this whole thing. I think\\nwe'll be answering this question for about the next year or so. There is\\nno \"option\" to get an FPU on a C650. What you...</td>\n",
              "      <td>4</td>\n",
              "    </tr>\n",
              "    <tr>\n",
              "      <th>11291</th>\n",
              "      <td>\\nThe federal government has mandated that all passenger cars by model year\\n'95 return to the floor mounted dimmer switch.\\n\\nA study by the National Highway Traffic Safety Administration (NHTSA...</td>\n",
              "      <td>7</td>\n",
              "    </tr>\n",
              "    <tr>\n",
              "      <th>11292</th>\n",
              "      <td>\\nIf I hear someone screwing with my car (ie, setting off the alarm) and\\ntaunting me to come out, you can be damn sure that my Colt Delta Elite\\nwill also be coming with me. It's not the screwing...</td>\n",
              "      <td>7</td>\n",
              "    </tr>\n",
              "    <tr>\n",
              "      <th>11293</th>\n",
              "      <td>The following is posted for a friend.  You can send replies to this email\\naddress or call him at 503-752-1499.  (Glen)\\n\\n\\tI have a CITIZEN OVERTURE 110 Laser printer for sale.  It is in\\nexcell...</td>\n",
              "      <td>6</td>\n",
              "    </tr>\n",
              "    <tr>\n",
              "      <th>11294</th>\n",
              "      <td>\\n \\n Well, I'm a Wings fan and I think the FIRST thing that you should do is to\\nget the opponent's line combinations correct before you try to match up anyone\\nwith them.  There is no Yzerman-F...</td>\n",
              "      <td>10</td>\n",
              "    </tr>\n",
              "    <tr>\n",
              "      <th>11295</th>\n",
              "      <td>I never thought I'd contribute to a Gateway thread, either pro or con, but\\nmy spleen could use a little venting.  The scenario:\\n\\n\\t1 - Ordered a DX2/50 w/ Ultrastor 34F Local Bus HD controller\\...</td>\n",
              "      <td>3</td>\n",
              "    </tr>\n",
              "    <tr>\n",
              "      <th>11296</th>\n",
              "      <td>\\n\\n\\n\\n\\n   Anaheim.</td>\n",
              "      <td>9</td>\n",
              "    </tr>\n",
              "    <tr>\n",
              "      <th>11297</th>\n",
              "      <td>Hello,\\n\\n    I am having a small problem with my sound blaster pro and a game.\\nIs there a utility out there that would tell me what DMA's my system\\nis using?\\n</td>\n",
              "      <td>3</td>\n",
              "    </tr>\n",
              "    <tr>\n",
              "      <th>11298</th>\n",
              "      <td>After reading some of the reports of possible NHL moves to Milwaukee or that\\nMilwaukee should have an NHL team, I thought I'd pass along a story I heard\\nrecently.  This is second hand, so I don'...</td>\n",
              "      <td>10</td>\n",
              "    </tr>\n",
              "    <tr>\n",
              "      <th>11299</th>\n",
              "      <td>^^^^^^^^^^^^^^^^^^^^^^^^^^^^^^^^^^^^^^^^^^^^^^^\\nI've heard many Turks say this and it surpises me that they don't read about\\nit.Remember the Treaty of Sevres-as a consequence of being in the Axi...</td>\n",
              "      <td>17</td>\n",
              "    </tr>\n",
              "    <tr>\n",
              "      <th>11300</th>\n",
              "      <td>\\nI am asking you to believe in things not visible. I don't know if this is\\nbelieveing blindly or not. I'm not sure how blindness comes into it. I do\\nnot deny reason, indeed I insist upon it, bu...</td>\n",
              "      <td>15</td>\n",
              "    </tr>\n",
              "    <tr>\n",
              "      <th>11301</th>\n",
              "      <td>I have an Alesis HR-16 drum machine for sale.  It includes velocity-sensitive\\npads, 49 digital sounds, 99 pattern memory and 49 song memory.  If you are\\ninterested, make me an offer.  Please res...</td>\n",
              "      <td>6</td>\n",
              "    </tr>\n",
              "    <tr>\n",
              "      <th>11302</th>\n",
              "      <td>\\nProbably keep quiet and take it, lest they get their kneecaps busted.</td>\n",
              "      <td>11</td>\n",
              "    </tr>\n",
              "    <tr>\n",
              "      <th>11303</th>\n",
              "      <td>Here is the story:\\nI have a network with 4 Macs on Localtalk. One of them has an\\nEthernet Card, and is currently connected to a NeXT (don't laugh\\nI got it for the price of a Mac IIsi). The NeXT...</td>\n",
              "      <td>4</td>\n",
              "    </tr>\n",
              "    <tr>\n",
              "      <th>11304</th>\n",
              "      <td></td>\n",
              "      <td>19</td>\n",
              "    </tr>\n",
              "    <tr>\n",
              "      <th>11305</th>\n",
              "      <td>[snip]\\n   In the first place the death of three soldiers on a patrol in occupied\\n   Lebanese terrritory is NOT an act of terrorism or murder.  It is \\n   disingeneous to compare their death t...</td>\n",
              "      <td>17</td>\n",
              "    </tr>\n",
              "    <tr>\n",
              "      <th>11306</th>\n",
              "      <td></td>\n",
              "      <td>3</td>\n",
              "    </tr>\n",
              "    <tr>\n",
              "      <th>11307</th>\n",
              "      <td>Hi to all.\\n\\nSince all of you could also be a seller as well as a buyer, I'd like to bring\\nthis issue for discussion - what would be the best solution in case a deal \\nbecame a lemon?\\n\\nAs I un...</td>\n",
              "      <td>6</td>\n",
              "    </tr>\n",
              "    <tr>\n",
              "      <th>11308</th>\n",
              "      <td>Thanks for the many offers to review this book.\\n\\nIf you received a review copy, please return it\\nas soon as possible.  I had a system crash and\\nlost the list of people I sent it to!\\n\\nThanks</td>\n",
              "      <td>5</td>\n",
              "    </tr>\n",
              "    <tr>\n",
              "      <th>11309</th>\n",
              "      <td>DN&gt; From: nyeda@cnsvax.uwec.edu (David Nye)\\nDN&gt; A neurology\\nDN&gt; consultation is cheaper than a scan.\\n\\nAnd also better, because a neurologist can make a differential\\ndiagnosis between migraine...</td>\n",
              "      <td>13</td>\n",
              "    </tr>\n",
              "    <tr>\n",
              "      <th>11310</th>\n",
              "      <td>I have a (very old) Mac 512k and a Mac Plus, both of which \\nhave the same problem.\\n\\nTheir screens blank out, sometimes after a minor physical jolt\\n(such as inserting a floppy in the internal d...</td>\n",
              "      <td>4</td>\n",
              "    </tr>\n",
              "    <tr>\n",
              "      <th>11311</th>\n",
              "      <td>I just installed a DX2-66 CPU in a clone motherboard, and tried mounting a CPU \\ncooler on the chip.  After about 1/2 hour, the weight of the cooler was enough \\nto dislodge the CPU from its mount...</td>\n",
              "      <td>3</td>\n",
              "    </tr>\n",
              "    <tr>\n",
              "      <th>11312</th>\n",
              "      <td>\\nWouldn't this require a hyper-sphere.  In 3-space, 4 points over specifies\\na sphere as far as I can see.  Unless that is you can prove that a point\\nexists in 3-space that is equi-distant from ...</td>\n",
              "      <td>1</td>\n",
              "    </tr>\n",
              "    <tr>\n",
              "      <th>11313</th>\n",
              "      <td>Stolen from Pasadena between 4:30 and 6:30 pm on 4/15.\\n\\nBlue and white Honda CBR900RR california plate KG CBR.   Serial number\\nJH2SC281XPM100187, engine number 2101240.\\n\\nNo turn signals or mi...</td>\n",
              "      <td>8</td>\n",
              "    </tr>\n",
              "  </tbody>\n",
              "</table>\n",
              "<p>11314 rows × 2 columns</p>\n",
              "</div>"
            ],
            "text/plain": [
              "                                                                                                                                                                                                          data  \\\n",
              "0      I was wondering if anyone out there could enlighten me on this car I saw\\nthe other day. It was a 2-door sports car, looked to be from the late 60s/\\nearly 70s. It was called a Bricklin. The doors...   \n",
              "1      A fair number of brave souls who upgraded their SI clock oscillator have\\nshared their experiences for this poll. Please send a brief message detailing\\nyour experiences with the procedure. Top sp...   \n",
              "2      well folks, my mac plus finally gave up the ghost this weekend after\\nstarting life as a 512k way back in 1985.  sooo, i'm in the market for a\\nnew machine a bit sooner than i intended to be...\\n\\...   \n",
              "3                                                                                                           \\nDo you have Weitek's address/phone number?  I'd like to get some information\\nabout this chip.\\n   \n",
              "4      From article <C5owCB.n3p@world.std.com>, by tombaker@world.std.com (Tom A Baker):\\n\\n\\nMy understanding is that the 'expected errors' are basically\\nknown bugs in the warning system software - thi...   \n",
              "5      \\n\\n\\n\\n\\nOf course.  The term must be rigidly defined in any bill.\\n\\n\\nI doubt she uses this term for that.  You are using a quote allegedly\\nfrom her, can you back it up?\\n\\n\\n\\n\\nI read the ar...   \n",
              "6      There were a few people who responded to my request for info on\\ntreatment for astrocytomas through email, whom I couldn't thank\\ndirectly because of mail-bouncing probs (Sean, Debra, and Sharon)....   \n",
              "7                                                                            \\nALL this shows is that YOU don't know much about SCSI.\\n\\nSCSI-1 {with a SCSI-1 controler chip} range is indeed 0-5MB/s\\nand...   \n",
              "8                         I have win 3.0 and downloaded several icons and BMP's but I can't figure out\\nhow to change the \"wallpaper\" or use the icons.  Any help would be appreciated.\\n\\n\\nThanx,\\n\\n-Brando   \n",
              "9      \\n\\n\\nI've had the board for over a year, and it does work with Diskdoubler,\\nbut not with Autodoubler, due to a licensing problem with Stac Technologies,\\nthe owners of the board's compression te...   \n",
              "10     I have a line on a Ducati 900GTS 1978 model with 17k on the clock.  Runs\\nvery well, paint is the bronze/brown/orange faded out, leaks a bit of oil\\nand pops out of 1st with hard accel.  The shop ...   \n",
              "11     \\nYep, that's pretty much it. I'm not a Jew but I understand that this is the\\nJewish way of thinking. However, the Jews believe that the Covenant between\\nYHWH and the Patriarchs (Abraham and Mos...   \n",
              "12                                                                                                                                                                                                        --\\n   \n",
              "13     \\n   {Description of \"External Tank\" option for SSF redesign deleted}\\n\\n\\nYo Ken, let's keep on-top of things! Both the \"External Tank\" and\\n\"Wingless Orbiter\" options have been deleted from the ...   \n",
              "14     Reduced Prices! \\nI have a list of things forsale on behalf of my brother, who's moving (moved\\nalready)\\n\\n\\t\\t\\t\\t\\t\\t\\t\\tOffer:\\n1) Black and Decker Duster Plus (Portable Hand Vaccum)\\t\\n \\tpur...   \n",
              "15     \\nDon't be so sure.  Look what happened to Japanese citizens in the US during\\nWorld War II.  If you're prepared to say \"Let's round these people up and\\nstick them in a concentration camp without...   \n",
              "16     \\nI certainly do use it whenever I have to do TIFF, and it usually works\\nvery well.  That's not my point.  I'm >philosophically< opposed to it\\nbecause of its complexity.\\n\\nThis complexity has l...   \n",
              "17     I recently posted an article asking what kind of rates single, male\\ndrivers under 25 yrs old were paying on performance cars. Here's a summary of\\nthe replies I received.\\n \\n \\n \\n \\n-----------...   \n",
              "18     I would like to be able to amplify a voltage signal which is\\noutput from a thermocouple, preferably by a factor of\\n100 or 1000 ---- so that the resulting voltage can be fed\\nmore easily into a p...   \n",
              "19     QUESTION:\\n  What is the EXACT entry (parameter and syntax please), in the X-Terminal\\nconfiguration file (loaded when the X-Terminal boots), to add another system \\nto the TCP/IP access control l...   \n",
              "20                 \\n[...]\\n\\nThese don't seem like \"little things\" to me.  At least, they are orders\\nworse than the motto.  Do you think that the motto is a \"little thing\"\\nthat will lead to worse things?   \n",
              "21     \\nI think that Mike Foligno was the captain of the Sabres when he\\ngot traded to the Leafs. Also, wasn't Rick Vaive the captain of\\nthe Leafs when he got traded to Chicago (with Steve Thomas for\\n...   \n",
              "22     \\n)>>   \"The Catalog of Personal Computing Tools for Engineers and Scien-\\n)>>   tists\" lists hardware cards and application software packages for \\n)>>   PC/XT/AT/PS/2 class machines.  Focus is o...   \n",
              "23     \\n\\n\\n\\nThe control box of the Window itself (upper left corner of the window, single\\nclick, am I being too simplistic?) has a font option. The 8 X 12 is about the\\nbiggest one I can use without ...   \n",
              "24     I don't know about the specific problem mentioned in your\\nmessage, but I definitely had SCSI problems between my\\nQ700 and my venerable Jasmine Megadrive 10 cartridge\\ndrives.  My solution was to...   \n",
              "25     Hello,\\n     I am looking to add voice input capability to a user interface I am\\ndeveloping on an HP730 (UNIX) workstation.  I would greatly appreciate \\ninformation anyone would care to offer ab...   \n",
              "26     \\n       Actually, fossil fuel plants run hotter than the usual \\nboiling-water reactor nuclear plants.  (There's a gripe in the industry\\nthat nuclear power uses 1900 vintage steam technology).  ...   \n",
              "27                                                                                                                                             Doug Roberts - Ken Hill for NL MVP!!\\n\\t       Let's go 'Spos\\n   \n",
              "28     \\nYes.\\n\\n(I am adamantly an environmentalist.  I will not use styrofoam table service.\\nPlease keep that in mind as you read this post - I do not wish to attack\\nenvironmentalism)\\n\\nA half truth...   \n",
              "29     \\nIt depends on your priorities.  A lot of people put higher priorities\\non gas mileage and cost than on safety, buying \"unsafe\" econoboxes\\ninstead of Volvos.  I personally take a middle ground -...   \n",
              "...                                                                                                                                                                                                        ...   \n",
              "11284                                                                                                                \\nAnd they're more like 1024x1024x8 charging & discharging capacitors in a DRAM\\nSIMM =-)   \n",
              "11285  \\nSorry Len, this is exactly how he suffered from being rushed to the bigs.\\nBeing overweight and having no work ethic, leading to being injury prone with\\nnothing to loose, might have been correc...   \n",
              "11286  \\n\\n\\n\\n\\nThe HGA isn't all that reflective in the wavelengths that might \"cook the\\nfocal elements\", nor is its figure good on those scales--the problem is\\nthat the antenna _itself_ could not be...   \n",
              "11287  \\n\\n\\nAll of this is fine.  I never said that Murray was a bad GM.  I merely said\\nthat he isn't the best GM in hockey- or even a contender for that honor.\\nIf Murray is as great as you claim- the...   \n",
              "11288  \\n\\n\\n\\n\\tI think the Manta is the European name for the \"GT.\"  I'm pretty sure\\nthat the only Kadett's sold here were/are the Pontiac LeMans.  I think the\\nGT is just an early '70s to mid '70s Ma...   \n",
              "11289  I have a Diamond Speedstar 24X board that I want to program\\nfor 24 bit 640x480 graphics, or possibly 800x600 16 bit color.\\nDoes anybody have any libraries supporting these modes on this\\nboard? ...   \n",
              "11290  \\n\\n\\n\\n    Apple has really confused people with this whole thing. I think\\nwe'll be answering this question for about the next year or so. There is\\nno \"option\" to get an FPU on a C650. What you...   \n",
              "11291   \\nThe federal government has mandated that all passenger cars by model year\\n'95 return to the floor mounted dimmer switch.\\n\\nA study by the National Highway Traffic Safety Administration (NHTSA...   \n",
              "11292  \\nIf I hear someone screwing with my car (ie, setting off the alarm) and\\ntaunting me to come out, you can be damn sure that my Colt Delta Elite\\nwill also be coming with me. It's not the screwing...   \n",
              "11293  The following is posted for a friend.  You can send replies to this email\\naddress or call him at 503-752-1499.  (Glen)\\n\\n\\tI have a CITIZEN OVERTURE 110 Laser printer for sale.  It is in\\nexcell...   \n",
              "11294   \\n \\n Well, I'm a Wings fan and I think the FIRST thing that you should do is to\\nget the opponent's line combinations correct before you try to match up anyone\\nwith them.  There is no Yzerman-F...   \n",
              "11295  I never thought I'd contribute to a Gateway thread, either pro or con, but\\nmy spleen could use a little venting.  The scenario:\\n\\n\\t1 - Ordered a DX2/50 w/ Ultrastor 34F Local Bus HD controller\\...   \n",
              "11296                                                                                                                                                                                    \\n\\n\\n\\n\\n   Anaheim.   \n",
              "11297                                       Hello,\\n\\n    I am having a small problem with my sound blaster pro and a game.\\nIs there a utility out there that would tell me what DMA's my system\\nis using?\\n   \n",
              "11298  After reading some of the reports of possible NHL moves to Milwaukee or that\\nMilwaukee should have an NHL team, I thought I'd pass along a story I heard\\nrecently.  This is second hand, so I don'...   \n",
              "11299  ^^^^^^^^^^^^^^^^^^^^^^^^^^^^^^^^^^^^^^^^^^^^^^^\\nI've heard many Turks say this and it surpises me that they don't read about\\nit.Remember the Treaty of Sevres-as a consequence of being in the Axi...   \n",
              "11300  \\nI am asking you to believe in things not visible. I don't know if this is\\nbelieveing blindly or not. I'm not sure how blindness comes into it. I do\\nnot deny reason, indeed I insist upon it, bu...   \n",
              "11301  I have an Alesis HR-16 drum machine for sale.  It includes velocity-sensitive\\npads, 49 digital sounds, 99 pattern memory and 49 song memory.  If you are\\ninterested, make me an offer.  Please res...   \n",
              "11302                                                                                                                                  \\nProbably keep quiet and take it, lest they get their kneecaps busted.   \n",
              "11303  Here is the story:\\nI have a network with 4 Macs on Localtalk. One of them has an\\nEthernet Card, and is currently connected to a NeXT (don't laugh\\nI got it for the price of a Mac IIsi). The NeXT...   \n",
              "11304                                                                                                                                                                                                            \n",
              "11305     [snip]\\n   In the first place the death of three soldiers on a patrol in occupied\\n   Lebanese terrritory is NOT an act of terrorism or murder.  It is \\n   disingeneous to compare their death t...   \n",
              "11306                                                                                                                                                                                                            \n",
              "11307  Hi to all.\\n\\nSince all of you could also be a seller as well as a buyer, I'd like to bring\\nthis issue for discussion - what would be the best solution in case a deal \\nbecame a lemon?\\n\\nAs I un...   \n",
              "11308      Thanks for the many offers to review this book.\\n\\nIf you received a review copy, please return it\\nas soon as possible.  I had a system crash and\\nlost the list of people I sent it to!\\n\\nThanks   \n",
              "11309  DN> From: nyeda@cnsvax.uwec.edu (David Nye)\\nDN> A neurology\\nDN> consultation is cheaper than a scan.\\n\\nAnd also better, because a neurologist can make a differential\\ndiagnosis between migraine...   \n",
              "11310  I have a (very old) Mac 512k and a Mac Plus, both of which \\nhave the same problem.\\n\\nTheir screens blank out, sometimes after a minor physical jolt\\n(such as inserting a floppy in the internal d...   \n",
              "11311  I just installed a DX2-66 CPU in a clone motherboard, and tried mounting a CPU \\ncooler on the chip.  After about 1/2 hour, the weight of the cooler was enough \\nto dislodge the CPU from its mount...   \n",
              "11312  \\nWouldn't this require a hyper-sphere.  In 3-space, 4 points over specifies\\na sphere as far as I can see.  Unless that is you can prove that a point\\nexists in 3-space that is equi-distant from ...   \n",
              "11313  Stolen from Pasadena between 4:30 and 6:30 pm on 4/15.\\n\\nBlue and white Honda CBR900RR california plate KG CBR.   Serial number\\nJH2SC281XPM100187, engine number 2101240.\\n\\nNo turn signals or mi...   \n",
              "\n",
              "       target  \n",
              "0           7  \n",
              "1           4  \n",
              "2           4  \n",
              "3           1  \n",
              "4          14  \n",
              "5          16  \n",
              "6          13  \n",
              "7           3  \n",
              "8           2  \n",
              "9           4  \n",
              "10          8  \n",
              "11         19  \n",
              "12          4  \n",
              "13         14  \n",
              "14          6  \n",
              "15          0  \n",
              "16          1  \n",
              "17          7  \n",
              "18         12  \n",
              "19          5  \n",
              "20          0  \n",
              "21         10  \n",
              "22          6  \n",
              "23          2  \n",
              "24          4  \n",
              "25          1  \n",
              "26         12  \n",
              "27          9  \n",
              "28         15  \n",
              "29          7  \n",
              "...       ...  \n",
              "11284       4  \n",
              "11285       9  \n",
              "11286      14  \n",
              "11287      10  \n",
              "11288       7  \n",
              "11289       1  \n",
              "11290       4  \n",
              "11291       7  \n",
              "11292       7  \n",
              "11293       6  \n",
              "11294      10  \n",
              "11295       3  \n",
              "11296       9  \n",
              "11297       3  \n",
              "11298      10  \n",
              "11299      17  \n",
              "11300      15  \n",
              "11301       6  \n",
              "11302      11  \n",
              "11303       4  \n",
              "11304      19  \n",
              "11305      17  \n",
              "11306       3  \n",
              "11307       6  \n",
              "11308       5  \n",
              "11309      13  \n",
              "11310       4  \n",
              "11311       3  \n",
              "11312       1  \n",
              "11313       8  \n",
              "\n",
              "[11314 rows x 2 columns]"
            ]
          },
          "metadata": {
            "tags": []
          },
          "execution_count": 460
        }
      ]
    },
    {
      "cell_type": "markdown",
      "metadata": {
        "id": "yKQs63gpuzqn",
        "colab_type": "text"
      },
      "source": [
        "#### Now we will check the distribution of length of the data, in terms of words in our dataset."
      ]
    },
    {
      "cell_type": "code",
      "metadata": {
        "id": "-HNkHK6Tuzqo",
        "colab_type": "code",
        "colab": {},
        "outputId": "41c1423e-1c92-47c9-e8e5-5f93111c64b5"
      },
      "source": [
        "length_data = mydata_train_df['data'].str.len() #length of data\n",
        "\n",
        "plt.hist(length_data, bins=20, label=\"data_length\",range=[0,10000])\n",
        "#plt.hist(length_test,  bins=20, label=\"test_tweets\")\n",
        "plt.legend() #to show legends\n",
        "plt.show()"
      ],
      "execution_count": 0,
      "outputs": [
        {
          "output_type": "display_data",
          "data": {
            "image/png": "[encoded data removed]",
            "text/plain": [
              "<matplotlib.figure.Figure at 0x171214de748>"
            ]
          },
          "metadata": {
            "tags": []
          }
        }
      ]
    },
    {
      "cell_type": "markdown",
      "metadata": {
        "id": "un8RSaCIuzqq",
        "colab_type": "text"
      },
      "source": [
        "#### Distibution of categories in our dataset"
      ]
    },
    {
      "cell_type": "code",
      "metadata": {
        "id": "y9Yr9IY1uzqr",
        "colab_type": "code",
        "colab": {},
        "outputId": "ab928236-d551-4ebc-afd8-42093517da4e"
      },
      "source": [
        "mydata_train_df['target'].value_counts()"
      ],
      "execution_count": 0,
      "outputs": [
        {
          "output_type": "execute_result",
          "data": {
            "text/plain": [
              "10    600\n",
              "15    599\n",
              "8     598\n",
              "9     597\n",
              "11    595\n",
              "13    594\n",
              "7     594\n",
              "14    593\n",
              "5     593\n",
              "12    591\n",
              "2     591\n",
              "3     590\n",
              "6     585\n",
              "1     584\n",
              "4     578\n",
              "17    564\n",
              "16    546\n",
              "0     480\n",
              "18    465\n",
              "19    377\n",
              "Name: target, dtype: int64"
            ]
          },
          "metadata": {
            "tags": []
          },
          "execution_count": 462
        }
      ]
    },
    {
      "cell_type": "markdown",
      "metadata": {
        "id": "u4I56PTnuzqu",
        "colab_type": "text"
      },
      "source": [
        "## Data Processing"
      ]
    },
    {
      "cell_type": "code",
      "metadata": {
        "id": "6IrsNxTVuzqv",
        "colab_type": "code",
        "colab": {}
      },
      "source": [
        "# creating a fucntion for initial data processing - handling extra characters, multiple spaces, capital case\n",
        "def dataprocess(string):\n",
        "    cleaned_str=re.sub(\"[^a-zA-Z]\", \" \",str(string))\n",
        "    #cleaned_str=re.sub('[^a-z\\s]+',' ',cleaned_str,flags=re.IGNORECASE) #every char except alphabets is replaced\n",
        "    cleaned_str=re.sub('(\\s+)',' ',cleaned_str) #multiple spaces are replaced by single space\n",
        "    cleaned_str=cleaned_str.lower() #converting the cleaned string to lower case    \n",
        "    return cleaned_str\n",
        "    \n",
        "    "
      ],
      "execution_count": 0,
      "outputs": []
    },
    {
      "cell_type": "code",
      "metadata": {
        "id": "wdBhT2aquzqx",
        "colab_type": "code",
        "colab": {}
      },
      "source": [
        "mydata_train_data = [dataprocess(str) for str in mydata_train_data]"
      ],
      "execution_count": 0,
      "outputs": []
    },
    {
      "cell_type": "code",
      "metadata": {
        "id": "R3FUy8f6uzqz",
        "colab_type": "code",
        "colab": {}
      },
      "source": [
        "mydata_test_data = [dataprocess(str) for str in mydata_test_data]"
      ],
      "execution_count": 0,
      "outputs": []
    },
    {
      "cell_type": "markdown",
      "metadata": {
        "id": "OIPKwbQ_uzq2",
        "colab_type": "text"
      },
      "source": [
        "#### Lemmatizing the data in our dataset"
      ]
    },
    {
      "cell_type": "code",
      "metadata": {
        "id": "H6_lL0I1uzq2",
        "colab_type": "code",
        "colab": {}
      },
      "source": [
        "# Importing port stemmer\n",
        "from nltk.stem.porter import * \n",
        "stemmer = PorterStemmer()"
      ],
      "execution_count": 0,
      "outputs": []
    },
    {
      "cell_type": "code",
      "metadata": {
        "id": "V5Ncu2OCuzq6",
        "colab_type": "code",
        "colab": {}
      },
      "source": [
        "# Tokenizing and lemmatizing\n",
        "\n",
        "def lemmatize_stemming(text):\n",
        "    return stemmer.stem(WordNetLemmatizer().lemmatize(text, pos='v'))\n",
        "\n",
        "# Tokenize and lemmatize\n",
        "def preprocess(text):\n",
        "    result=[]\n",
        "    for token in gensim.utils.simple_preprocess(text) :\n",
        "        if token not in gensim.parsing.preprocessing.STOPWORDS:\n",
        "            result.append(lemmatize_stemming(token))\n",
        "           \n",
        "    return result"
      ],
      "execution_count": 0,
      "outputs": []
    },
    {
      "cell_type": "code",
      "metadata": {
        "id": "sofSfxxNuzq8",
        "colab_type": "code",
        "colab": {}
      },
      "source": [
        "mydata_train_data =[preprocess(str) for str in mydata_train_data]"
      ],
      "execution_count": 0,
      "outputs": []
    },
    {
      "cell_type": "code",
      "metadata": {
        "id": "QBIDzc7yuzq-",
        "colab_type": "code",
        "colab": {}
      },
      "source": [
        "mydata_test_data =[preprocess(str) for str in mydata_test_data]"
      ],
      "execution_count": 0,
      "outputs": []
    },
    {
      "cell_type": "markdown",
      "metadata": {
        "id": "NQMQtLA_uzrA",
        "colab_type": "text"
      },
      "source": [
        "## Vectorization Methods - CountVectorizer"
      ]
    },
    {
      "cell_type": "markdown",
      "metadata": {
        "id": "r-wVh3fEuzrB",
        "colab_type": "text"
      },
      "source": [
        "### BoW Representation of our data\n",
        "- Takes in the text corpus, builds it’s term document matrix (i.e BoW), and returns it\n",
        "- Every word is assigned a fixed unique integer id and value of each cell of this matrix represents the word count — BoW"
      ]
    },
    {
      "cell_type": "code",
      "metadata": {
        "id": "saMvHopWuzrB",
        "colab_type": "code",
        "colab": {}
      },
      "source": [
        "## It is very important to remove stop words, accuaracy gets impacted if stop words not removed"
      ],
      "execution_count": 0,
      "outputs": []
    },
    {
      "cell_type": "code",
      "metadata": {
        "scrolled": true,
        "id": "QFoMWZK9uzrD",
        "colab_type": "code",
        "colab": {},
        "outputId": "c7391dc6-3a1b-4708-adff-66d8dec9fb67"
      },
      "source": [
        "from sklearn.feature_extraction.text import CountVectorizer, TfidfVectorizer\n",
        "import gensim\n",
        "count_vect = CountVectorizer(tokenizer=lambda doc: doc, lowercase=False,stop_words='english') \n",
        "mydata_train_count = count_vect.fit_transform(mydata_train_data)\n",
        "print (mydata_train_count.shape)"
      ],
      "execution_count": 0,
      "outputs": [
        {
          "output_type": "stream",
          "text": [
            "(11314, 47349)\n"
          ],
          "name": "stdout"
        }
      ]
    },
    {
      "cell_type": "markdown",
      "metadata": {
        "id": "iOYfKn0xuzrG",
        "colab_type": "text"
      },
      "source": [
        "## Vectorizer Methods - TF-IDF"
      ]
    },
    {
      "cell_type": "code",
      "metadata": {
        "id": "8mXBJqPhuzrH",
        "colab_type": "code",
        "colab": {},
        "outputId": "514e24c6-b515-4d92-99da-2f81169bae42"
      },
      "source": [
        "tfidf_vect = TfidfVectorizer(tokenizer=lambda doc: doc, lowercase=False,stop_words='english')\n",
        "mydata_train_count_tf = tfidf_vect.fit_transform(mydata_train_data)\n",
        "print (mydata_train_count_tf.shape)"
      ],
      "execution_count": 0,
      "outputs": [
        {
          "output_type": "stream",
          "text": [
            "(11314, 47349)\n"
          ],
          "name": "stdout"
        },
        {
          "output_type": "stream",
          "text": [
            "C:\\Users\\singh\\Anaconda3\\lib\\site-packages\\sklearn\\feature_extraction\\text.py:1015: FutureWarning: Conversion of the second argument of issubdtype from `float` to `np.floating` is deprecated. In future, it will be treated as `np.float64 == np.dtype(float).type`.\n",
            "  if hasattr(X, 'dtype') and np.issubdtype(X.dtype, np.float):\n"
          ],
          "name": "stderr"
        }
      ]
    },
    {
      "cell_type": "code",
      "metadata": {
        "id": "-qm3CQQnuzrK",
        "colab_type": "code",
        "colab": {}
      },
      "source": [
        "tfidf_features=tfidf_vect.get_feature_names() # seeing features of TFIDF"
      ],
      "execution_count": 0,
      "outputs": []
    },
    {
      "cell_type": "markdown",
      "metadata": {
        "id": "dUMhR_2NuzrN",
        "colab_type": "text"
      },
      "source": [
        "## Modelling"
      ]
    },
    {
      "cell_type": "markdown",
      "metadata": {
        "id": "M7hvXmmQuzrR",
        "colab_type": "text"
      },
      "source": [
        "### NAIVE BAYES MODEL"
      ]
    },
    {
      "cell_type": "markdown",
      "metadata": {
        "id": "lNVa_5TcuzrS",
        "colab_type": "text"
      },
      "source": [
        "#### Running Naive Bayes model for a start - Count Vect"
      ]
    },
    {
      "cell_type": "code",
      "metadata": {
        "id": "dgnLBH7suzrS",
        "colab_type": "code",
        "colab": {},
        "outputId": "cd34b474-b00c-4b75-924f-c2f35368c03f"
      },
      "source": [
        "from sklearn.naive_bayes import MultinomialNB \n",
        "nb = MultinomialNB()\n",
        "nb.fit(mydata_train_count, mydata_train_labels)  #calling the fit"
      ],
      "execution_count": 0,
      "outputs": [
        {
          "output_type": "execute_result",
          "data": {
            "text/plain": [
              "MultinomialNB(alpha=1.0, class_prior=None, fit_prior=True)"
            ]
          },
          "metadata": {
            "tags": []
          },
          "execution_count": 355
        }
      ]
    },
    {
      "cell_type": "code",
      "metadata": {
        "id": "Skc8K9F0uzrU",
        "colab_type": "code",
        "colab": {},
        "outputId": "c2f0af91-a816-48a7-a4f6-b1c32ea96706"
      },
      "source": [
        "predicted_train=nb.predict(mydata_train_count) \n",
        "print (\"Train Set Accuracy : \",np.sum(predicted_train==mydata_train_labels)/float(len(predicted_train)))"
      ],
      "execution_count": 0,
      "outputs": [
        {
          "output_type": "stream",
          "text": [
            "Train Set Accuracy :  0.8077602969771964\n"
          ],
          "name": "stdout"
        }
      ]
    },
    {
      "cell_type": "markdown",
      "metadata": {
        "id": "eXj0B3qYuzrX",
        "colab_type": "text"
      },
      "source": [
        "#### NB on training dataset using TFIDF"
      ]
    },
    {
      "cell_type": "code",
      "metadata": {
        "id": "bDhzy-lguzrX",
        "colab_type": "code",
        "colab": {},
        "outputId": "eed93aec-fd71-4126-8a54-5fb44077eea4"
      },
      "source": [
        "from sklearn.naive_bayes import MultinomialNB \n",
        "nb_tf = MultinomialNB()\n",
        "nb_tf.fit(mydata_train_count_tf, mydata_train_labels) "
      ],
      "execution_count": 0,
      "outputs": [
        {
          "output_type": "execute_result",
          "data": {
            "text/plain": [
              "MultinomialNB(alpha=1.0, class_prior=None, fit_prior=True)"
            ]
          },
          "metadata": {
            "tags": []
          },
          "execution_count": 357
        }
      ]
    },
    {
      "cell_type": "code",
      "metadata": {
        "scrolled": true,
        "id": "Xi8E553luzra",
        "colab_type": "code",
        "colab": {},
        "outputId": "a3c7bbfc-b067-4c4d-8913-074b2fea2bbe"
      },
      "source": [
        "nb_tf.fit(mydata_train_count_tf, mydata_train_labels)\n",
        "predicted_train_tf=nb_tf.predict(mydata_train_count_tf)\n",
        "print (\"Train Set Accuracy : \",np.sum(predicted_train_tf==mydata_train_labels)/float(len(predicted_train_tf)))"
      ],
      "execution_count": 0,
      "outputs": [
        {
          "output_type": "stream",
          "text": [
            "Train Set Accuracy :  0.8381651051794238\n"
          ],
          "name": "stdout"
        }
      ]
    },
    {
      "cell_type": "markdown",
      "metadata": {
        "id": "ru_SA3Yiuzrc",
        "colab_type": "text"
      },
      "source": [
        "#### As we can see TF-IDF performs better than Count vectorizer, looking into classification_report of NB with TFIDF"
      ]
    },
    {
      "cell_type": "code",
      "metadata": {
        "id": "e8yxSSnMuzrc",
        "colab_type": "code",
        "colab": {},
        "outputId": "b7cdfeec-516b-4698-ea75-b15961960722"
      },
      "source": [
        "print(classification_report(mydata_train_labels, predicted_train_tf))"
      ],
      "execution_count": 0,
      "outputs": [
        {
          "output_type": "stream",
          "text": [
            "             precision    recall  f1-score   support\n",
            "\n",
            "          0       0.93      0.57      0.71       480\n",
            "          1       0.89      0.82      0.85       584\n",
            "          2       0.88      0.79      0.83       591\n",
            "          3       0.76      0.86      0.81       590\n",
            "          4       0.91      0.81      0.86       578\n",
            "          5       0.86      0.94      0.90       593\n",
            "          6       0.88      0.83      0.85       585\n",
            "          7       0.93      0.84      0.88       594\n",
            "          8       0.95      0.88      0.92       598\n",
            "          9       0.97      0.90      0.93       597\n",
            "         10       0.63      0.96      0.76       600\n",
            "         11       0.81      0.93      0.87       595\n",
            "         12       0.91      0.83      0.87       591\n",
            "         13       0.95      0.93      0.94       594\n",
            "         14       0.94      0.92      0.93       593\n",
            "         15       0.54      0.97      0.69       599\n",
            "         16       0.85      0.91      0.88       546\n",
            "         17       0.90      0.92      0.91       564\n",
            "         18       0.97      0.73      0.84       465\n",
            "         19       1.00      0.11      0.20       377\n",
            "\n",
            "avg / total       0.87      0.84      0.83     11314\n",
            "\n"
          ],
          "name": "stdout"
        }
      ]
    },
    {
      "cell_type": "markdown",
      "metadata": {
        "id": "L-BaVpHuuzrh",
        "colab_type": "text"
      },
      "source": [
        "#### NB on testing Dataset using count vectorizer"
      ]
    },
    {
      "cell_type": "code",
      "metadata": {
        "id": "tUtZZg52uzri",
        "colab_type": "code",
        "colab": {},
        "outputId": "e454aedb-5ac6-4b02-f77c-6089f5015a9e"
      },
      "source": [
        "mydata_test_count=count_vect.transform(mydata_test_data) #transforms test data to numerical form\n",
        "print (mydata_test_count.shape)"
      ],
      "execution_count": 0,
      "outputs": [
        {
          "output_type": "stream",
          "text": [
            "(7532, 47349)\n"
          ],
          "name": "stdout"
        }
      ]
    },
    {
      "cell_type": "code",
      "metadata": {
        "id": "-WRac6G9uzrk",
        "colab_type": "code",
        "colab": {},
        "outputId": "9079ae5d-4ab4-4602-f950-6ed653f3e3ac"
      },
      "source": [
        "predicted=nb.predict(mydata_test_count) #simply call the predict function to predict for test set\n",
        "print (\"Test Set Accuracy : \",np.sum(predicted==mydata_test_labels)/float(len(predicted)))"
      ],
      "execution_count": 0,
      "outputs": [
        {
          "output_type": "stream",
          "text": [
            "Test Set Accuracy :  0.6283855549654807\n"
          ],
          "name": "stdout"
        }
      ]
    },
    {
      "cell_type": "markdown",
      "metadata": {
        "id": "VZRTWhysuzrm",
        "colab_type": "text"
      },
      "source": [
        "#### NB on test dataset using TFIDF"
      ]
    },
    {
      "cell_type": "code",
      "metadata": {
        "id": "dFPQpiCuuzrm",
        "colab_type": "code",
        "colab": {},
        "outputId": "dde2dcdc-4b2c-4fff-c071-df3f1c0250fb"
      },
      "source": [
        "mydata_test_count_tf = tfidf_vect.transform(mydata_test_data)"
      ],
      "execution_count": 0,
      "outputs": [
        {
          "output_type": "stream",
          "text": [
            "C:\\Users\\singh\\Anaconda3\\lib\\site-packages\\sklearn\\feature_extraction\\text.py:1015: FutureWarning: Conversion of the second argument of issubdtype from `float` to `np.floating` is deprecated. In future, it will be treated as `np.float64 == np.dtype(float).type`.\n",
            "  if hasattr(X, 'dtype') and np.issubdtype(X.dtype, np.float):\n"
          ],
          "name": "stderr"
        }
      ]
    },
    {
      "cell_type": "code",
      "metadata": {
        "scrolled": false,
        "id": "14mSTWFZuzro",
        "colab_type": "code",
        "colab": {},
        "outputId": "a263572f-1e76-4a5e-bf26-e2bac155f7fd"
      },
      "source": [
        "predicted_tf=nb_tf.predict(mydata_test_count_tf) #simply call the predict function to predict for test set\n",
        "print (\"Test Set Accuracy : \",np.sum(predicted_tf==mydata_test_labels)/float(len(predicted_tf)))"
      ],
      "execution_count": 0,
      "outputs": [
        {
          "output_type": "stream",
          "text": [
            "Test Set Accuracy :  0.6524163568773235\n"
          ],
          "name": "stdout"
        }
      ]
    },
    {
      "cell_type": "code",
      "metadata": {
        "scrolled": true,
        "id": "qI7yfu_nuzrs",
        "colab_type": "code",
        "colab": {},
        "outputId": "c0f2966c-7dfe-47a1-8f41-2bda0eb6b213"
      },
      "source": [
        "print(classification_report(mydata_test_labels, predicted_tf))"
      ],
      "execution_count": 0,
      "outputs": [
        {
          "output_type": "stream",
          "text": [
            "             precision    recall  f1-score   support\n",
            "\n",
            "          0       0.68      0.18      0.29       319\n",
            "          1       0.65      0.66      0.66       389\n",
            "          2       0.65      0.51      0.57       394\n",
            "          3       0.54      0.70      0.61       392\n",
            "          4       0.72      0.56      0.63       385\n",
            "          5       0.74      0.76      0.75       395\n",
            "          6       0.78      0.72      0.75       390\n",
            "          7       0.81      0.70      0.75       396\n",
            "          8       0.86      0.67      0.76       398\n",
            "          9       0.91      0.77      0.83       397\n",
            "         10       0.56      0.92      0.70       399\n",
            "         11       0.57      0.79      0.66       396\n",
            "         12       0.65      0.53      0.58       393\n",
            "         13       0.83      0.75      0.79       396\n",
            "         14       0.75      0.74      0.74       394\n",
            "         15       0.37      0.92      0.53       398\n",
            "         16       0.55      0.69      0.62       364\n",
            "         17       0.78      0.79      0.79       376\n",
            "         18       0.83      0.28      0.42       310\n",
            "         19       1.00      0.01      0.02       251\n",
            "\n",
            "avg / total       0.71      0.65      0.64      7532\n",
            "\n"
          ],
          "name": "stdout"
        }
      ]
    },
    {
      "cell_type": "markdown",
      "metadata": {
        "id": "3pM_P-fIuzru",
        "colab_type": "text"
      },
      "source": [
        "### SGD Classifier - Training and Test Data set using count_vectorizer"
      ]
    },
    {
      "cell_type": "code",
      "metadata": {
        "id": "I4Q5KbI8uzrv",
        "colab_type": "code",
        "colab": {},
        "outputId": "00ef2d31-5321-44ac-d5fe-d97db53fd004"
      },
      "source": [
        "svm_cv = SGDClassifier(loss='hinge', penalty='l2',alpha=1e-3, n_iter=10, random_state=42)\n",
        "svm_cv.fit(mydata_train_count, mydata_train_labels) \n",
        "\n",
        "svm_cv.fit(mydata_train_count, mydata_train_labels)\n",
        "predicted_train_cv = svm_cv.predict(mydata_train_count)\n",
        "print (\"Train Set Accuracy : \",np.sum(predicted_train_cv==mydata_train_labels)/float(len(predicted_train_cv)))\n",
        "\n",
        "predicted_cv=svm_cv.predict(mydata_test_count) #simply call the predict function to predict for test set\n",
        "print (\"Test Set Accuracy : \",np.sum(predicted_cv==mydata_test_labels)/float(len(predicted_cv)))"
      ],
      "execution_count": 0,
      "outputs": [
        {
          "output_type": "stream",
          "text": [
            "Train Set Accuracy :  0.8939367155736256\n",
            "Test Set Accuracy :  0.5938661710037175\n"
          ],
          "name": "stdout"
        }
      ]
    },
    {
      "cell_type": "markdown",
      "metadata": {
        "id": "ujWdapEjuzry",
        "colab_type": "text"
      },
      "source": [
        "### SGD Classifier - Training and Test Data set using TFIDF_vectorizer"
      ]
    },
    {
      "cell_type": "code",
      "metadata": {
        "id": "Jq3lNtjouzr0",
        "colab_type": "code",
        "colab": {},
        "outputId": "76220f1c-5d5a-4990-a0b2-4a728bf6f28d"
      },
      "source": [
        "svm_tf = SGDClassifier(loss='hinge', penalty='l2',alpha=1e-3, n_iter=10, random_state=42)\n",
        "svm_tf.fit(mydata_train_count_tf, mydata_train_labels) \n",
        "\n",
        "svm_tf.fit(mydata_train_count_tf, mydata_train_labels)\n",
        "predicted_train_tf = svm_tf.predict(mydata_train_count_tf)\n",
        "print (\"Train Set Accuracy : \",np.sum(predicted_train_tf==mydata_train_labels)/float(len(predicted_train_tf)))\n",
        "\n",
        "predicted_tf=svm_tf.predict(mydata_test_count_tf) #simply call the predict function to predict for test set\n",
        "print (\"Test Set Accuracy : \",np.sum(predicted_tf==mydata_test_labels)/float(len(predicted_tf)))"
      ],
      "execution_count": 0,
      "outputs": [
        {
          "output_type": "stream",
          "text": [
            "Train Set Accuracy :  0.8845677921159625\n",
            "Test Set Accuracy :  0.6594530005310675\n"
          ],
          "name": "stdout"
        }
      ]
    },
    {
      "cell_type": "markdown",
      "metadata": {
        "id": "dpA9iEeruzr2",
        "colab_type": "text"
      },
      "source": [
        "#### As we can see, SGD with TF-IDF classifier faitly performs better than Count vectorizer. Moving ahead, we will be using Cross validation to tune the model further"
      ]
    },
    {
      "cell_type": "code",
      "metadata": {
        "id": "YkPqN6u2uzr2",
        "colab_type": "code",
        "colab": {}
      },
      "source": [
        "from sklearn.grid_search import GridSearchCV\n",
        "parameters = {'penalty': [\"l1\",\"l2\"],\n",
        "               'n_iter': [5,10,20,50,100],\n",
        "               'alpha': (0.1,0.01, 0.001),\n",
        " }"
      ],
      "execution_count": 0,
      "outputs": []
    },
    {
      "cell_type": "code",
      "metadata": {
        "id": "W-KVMy_Cuzr3",
        "colab_type": "code",
        "colab": {}
      },
      "source": [
        "gs_clf = GridSearchCV(svm_tf, parameters)\n",
        "gs_clf = gs_clf.fit(mydata_train_count_tf, mydata_train_labels)"
      ],
      "execution_count": 0,
      "outputs": []
    },
    {
      "cell_type": "code",
      "metadata": {
        "id": "KxoEqZsuuzr5",
        "colab_type": "code",
        "colab": {},
        "outputId": "ec9ce212-9b24-4a1b-9e8a-35ce7be5c967"
      },
      "source": [
        "gs_clf.best_params_"
      ],
      "execution_count": 0,
      "outputs": [
        {
          "output_type": "execute_result",
          "data": {
            "text/plain": [
              "{'alpha': 0.001, 'n_iter': 20, 'penalty': 'l2'}"
            ]
          },
          "metadata": {
            "tags": []
          },
          "execution_count": 524
        }
      ]
    },
    {
      "cell_type": "markdown",
      "metadata": {
        "id": "ZrTY6_bsuzr7",
        "colab_type": "text"
      },
      "source": [
        "#### Using best parameters and predicting again"
      ]
    },
    {
      "cell_type": "code",
      "metadata": {
        "id": "M48ft4KIuzr7",
        "colab_type": "code",
        "colab": {},
        "outputId": "1b7122d9-09fb-4b8c-c3bb-136295649b93"
      },
      "source": [
        "svm_tf = SGDClassifier(loss='hinge', penalty='l2',alpha=1e-3, n_iter=20, random_state=42)\n",
        "svm_tf.fit(mydata_train_count_tf, mydata_train_labels) \n",
        "\n",
        "svm_tf.fit(mydata_train_count_tf, mydata_train_labels)\n",
        "predicted_train_tf = svm_tf.predict(mydata_train_count_tf)\n",
        "print (\"Train Set Accuracy : \",np.sum(predicted_train_tf==mydata_train_labels)/float(len(predicted_train_tf)))\n",
        "\n",
        "predicted_tf=svm_tf.predict(mydata_test_count_tf) #simply call the predict function to predict for test set\n",
        "print (\"Test Set Accuracy : \",np.sum(predicted_tf==mydata_test_labels)/float(len(predicted_tf)))"
      ],
      "execution_count": 0,
      "outputs": [
        {
          "output_type": "stream",
          "text": [
            "Train Set Accuracy :  0.8851864946084497\n",
            "Test Set Accuracy :  0.6593202336696761\n"
          ],
          "name": "stdout"
        }
      ]
    },
    {
      "cell_type": "markdown",
      "metadata": {
        "id": "9g-HbrZ-uzr-",
        "colab_type": "text"
      },
      "source": [
        "#### As we can see there is slight increase in training accuracy with the CV parameters."
      ]
    },
    {
      "cell_type": "markdown",
      "metadata": {
        "id": "_dKjgBYluzr_",
        "colab_type": "text"
      },
      "source": [
        "### XGBoost Classifier - Training Data set using CountVectorizer"
      ]
    },
    {
      "cell_type": "code",
      "metadata": {
        "id": "nwn1xkGs0Fr5",
        "colab_type": "code",
        "colab": {}
      },
      "source": [
        "xgb_model_cv = XGBClassifier(max_depth=6, n_estimators=200).fit(mydata_train_count, mydata_train_labels) \n",
        "prediction = xgb_model_cv.predict(mydata_train_count) \n",
        "\n"
      ],
      "execution_count": 0,
      "outputs": []
    },
    {
      "cell_type": "code",
      "metadata": {
        "id": "tJelqDAZ0Fr6",
        "colab_type": "code",
        "outputId": "159653da-d60a-4ec4-d970-272764df7fd0",
        "colab": {}
      },
      "source": [
        "(accuracy_score(mydata_train_labels, prediction))*100"
      ],
      "execution_count": 0,
      "outputs": [
        {
          "output_type": "execute_result",
          "data": {
            "text/plain": [
              "89.49089623475341"
            ]
          },
          "metadata": {
            "tags": []
          },
          "execution_count": 65
        }
      ]
    },
    {
      "cell_type": "code",
      "metadata": {
        "id": "-M6kafdW0Fr-",
        "colab_type": "code",
        "outputId": "f1d9756b-3843-494c-8cd2-89862f0f0674",
        "colab": {}
      },
      "source": [
        "prediction_test = xgb_model_cv.predict(mydata_test_count)\n",
        "(accuracy_score(mydata_test_labels, prediction_test))*100"
      ],
      "execution_count": 0,
      "outputs": [
        {
          "output_type": "execute_result",
          "data": {
            "text/plain": [
              "62.65268189060011"
            ]
          },
          "metadata": {
            "tags": []
          },
          "execution_count": 66
        }
      ]
    },
    {
      "cell_type": "markdown",
      "metadata": {
        "id": "Az2OpGicxoFK",
        "colab_type": "text"
      },
      "source": [
        "### XGBClassifier tuning using Count vectorizer - Cross Validation"
      ]
    },
    {
      "cell_type": "code",
      "metadata": {
        "id": "9l5t3piiuS6V",
        "colab_type": "code",
        "colab": {}
      },
      "source": [
        "from sklearn.model_selection import GridSearchCV\n",
        "from sklearn.model_selection import StratifiedKFold"
      ],
      "execution_count": 0,
      "outputs": []
    },
    {
      "cell_type": "code",
      "metadata": {
        "id": "Zgog5LZGuS6W",
        "colab_type": "code",
        "colab": {}
      },
      "source": [
        "model = XGBClassifier()\n",
        "n_estimators = range(100, 400, 100)\n",
        "param_grid = dict(n_estimators=n_estimators)\n",
        "kfold = StratifiedKFold(n_splits=10, shuffle=True, random_state=7)\n",
        "grid_search = GridSearchCV(model, param_grid, scoring=\"neg_log_loss\", n_jobs=-1, cv=kfold)\n",
        "grid_result = grid_search.fit(mydata_train_count, mydata_train_labels)"
      ],
      "execution_count": 0,
      "outputs": []
    },
    {
      "cell_type": "code",
      "metadata": {
        "id": "neQ7fU5NuS6Y",
        "colab_type": "code",
        "outputId": "0d7bed05-2fa4-4c6b-becf-5b9369f765a2",
        "colab": {}
      },
      "source": [
        "grid_search.best_params_"
      ],
      "execution_count": 0,
      "outputs": [
        {
          "output_type": "execute_result",
          "data": {
            "text/plain": [
              "{'n_estimators': 300}"
            ]
          },
          "metadata": {
            "tags": []
          },
          "execution_count": 55
        }
      ]
    },
    {
      "cell_type": "code",
      "metadata": {
        "id": "cajP1f3nuS6Z",
        "colab_type": "code",
        "colab": {}
      },
      "source": [
        "xgb_new=grid_result "
      ],
      "execution_count": 0,
      "outputs": []
    },
    {
      "cell_type": "code",
      "metadata": {
        "id": "_Bhm9FlLuS6b",
        "colab_type": "code",
        "colab": {}
      },
      "source": [
        "pred=xgb_new.predict(mydata_train_count) "
      ],
      "execution_count": 0,
      "outputs": []
    },
    {
      "cell_type": "code",
      "metadata": {
        "id": "Ma1l-GxTuS6e",
        "colab_type": "code",
        "outputId": "494b3934-23a3-45c3-d4c6-30bd76022a0c",
        "colab": {}
      },
      "source": [
        "(accuracy_score(mydata_train_labels, pred))*100"
      ],
      "execution_count": 0,
      "outputs": [
        {
          "output_type": "execute_result",
          "data": {
            "text/plain": [
              "83.3127099169171"
            ]
          },
          "metadata": {
            "tags": []
          },
          "execution_count": 62
        }
      ]
    },
    {
      "cell_type": "code",
      "metadata": {
        "id": "T6dS6alUuS6i",
        "colab_type": "code",
        "outputId": "4456085e-7ad6-4a04-84ba-0a7e24624ef9",
        "colab": {}
      },
      "source": [
        "pred_test = xgb_new.predict(mydata_test_count)\n",
        "(accuracy_score(mydata_test_labels, pred_test))*100"
      ],
      "execution_count": 0,
      "outputs": [
        {
          "output_type": "execute_result",
          "data": {
            "text/plain": [
              "62.559745087626126"
            ]
          },
          "metadata": {
            "tags": []
          },
          "execution_count": 63
        }
      ]
    },
    {
      "cell_type": "markdown",
      "metadata": {
        "id": "gX1_YQ1DuzsD",
        "colab_type": "text"
      },
      "source": [
        "### XGBoost Classifier - Training Data set using TF_IDF"
      ]
    },
    {
      "cell_type": "code",
      "metadata": {
        "id": "HqHSIX3guzsE",
        "colab_type": "code",
        "colab": {}
      },
      "source": [
        "from xgboost import XGBClassifier"
      ],
      "execution_count": 0,
      "outputs": []
    },
    {
      "cell_type": "code",
      "metadata": {
        "id": "8LPuwX43uzsF",
        "colab_type": "code",
        "colab": {}
      },
      "source": [
        "xgb_model = XGBClassifier(max_depth=6, n_estimators=200).fit(mydata_train_count_tf, mydata_train_labels) \n",
        "prediction = xgb_model.predict(mydata_train_count_tf) \n"
      ],
      "execution_count": 0,
      "outputs": []
    },
    {
      "cell_type": "code",
      "metadata": {
        "id": "I-QGBBlTuzsG",
        "colab_type": "code",
        "colab": {},
        "outputId": "d9cbfc5b-a422-4da3-a1af-ab30ddfb6fbb"
      },
      "source": [
        "(accuracy_score(mydata_train_labels, prediction))*100"
      ],
      "execution_count": 0,
      "outputs": [
        {
          "output_type": "execute_result",
          "data": {
            "text/plain": [
              "90.24217783277355"
            ]
          },
          "metadata": {
            "tags": []
          },
          "execution_count": 440
        }
      ]
    },
    {
      "cell_type": "code",
      "metadata": {
        "id": "WDY4SzjquzsI",
        "colab_type": "code",
        "colab": {},
        "outputId": "5fc6c32f-7f43-4a9f-d349-129b6276aa05"
      },
      "source": [
        "from sklearn.metrics import classification_report\n",
        "print(classification_report(mydata_train_labels, prediction))"
      ],
      "execution_count": 0,
      "outputs": [
        {
          "output_type": "stream",
          "text": [
            "             precision    recall  f1-score   support\n",
            "\n",
            "          0       0.92      0.90      0.91       480\n",
            "          1       0.92      0.87      0.89       584\n",
            "          2       0.92      0.88      0.90       591\n",
            "          3       0.92      0.90      0.91       590\n",
            "          4       0.93      0.88      0.90       578\n",
            "          5       0.96      0.93      0.95       593\n",
            "          6       0.90      0.93      0.91       585\n",
            "          7       0.53      0.93      0.68       594\n",
            "          8       0.93      0.88      0.90       598\n",
            "          9       0.93      0.89      0.91       597\n",
            "         10       0.96      0.91      0.93       600\n",
            "         11       0.98      0.93      0.95       595\n",
            "         12       0.91      0.88      0.89       591\n",
            "         13       0.96      0.93      0.94       594\n",
            "         14       0.95      0.90      0.92       593\n",
            "         15       0.98      0.93      0.95       599\n",
            "         16       0.96      0.91      0.93       546\n",
            "         17       0.98      0.92      0.95       564\n",
            "         18       0.94      0.90      0.92       465\n",
            "         19       0.94      0.85      0.89       377\n",
            "\n",
            "avg / total       0.92      0.90      0.91     11314\n",
            "\n"
          ],
          "name": "stdout"
        }
      ]
    },
    {
      "cell_type": "markdown",
      "metadata": {
        "id": "GS3470zXuzsJ",
        "colab_type": "text"
      },
      "source": [
        "### XGBoost Classifier - Testing Data set using TF_IDF"
      ]
    },
    {
      "cell_type": "code",
      "metadata": {
        "id": "WSwWy6VauzsK",
        "colab_type": "code",
        "colab": {},
        "outputId": "87ed6483-9a5e-4fa6-a4b4-e43ddd70e102"
      },
      "source": [
        "prediction_test = xgb_model.predict(mydata_test_count_tf)\n",
        "(accuracy_score(mydata_test_labels, prediction_test))*100"
      ],
      "execution_count": 0,
      "outputs": [
        {
          "output_type": "execute_result",
          "data": {
            "text/plain": [
              "58.85554965480616"
            ]
          },
          "metadata": {
            "tags": []
          },
          "execution_count": 441
        }
      ]
    },
    {
      "cell_type": "code",
      "metadata": {
        "id": "XHwNDq8AuzsL",
        "colab_type": "code",
        "colab": {},
        "outputId": "104abb3d-da45-4f10-f3c9-b409e6244306"
      },
      "source": [
        "print(classification_report(mydata_test_labels, prediction_test))"
      ],
      "execution_count": 0,
      "outputs": [
        {
          "output_type": "stream",
          "text": [
            "             precision    recall  f1-score   support\n",
            "\n",
            "          0       0.45      0.42      0.44       319\n",
            "          1       0.55      0.56      0.55       389\n",
            "          2       0.55      0.53      0.54       394\n",
            "          3       0.54      0.56      0.55       392\n",
            "          4       0.59      0.55      0.57       385\n",
            "          5       0.66      0.58      0.62       395\n",
            "          6       0.67      0.70      0.68       390\n",
            "          7       0.34      0.67      0.45       396\n",
            "          8       0.69      0.64      0.66       398\n",
            "          9       0.73      0.73      0.73       397\n",
            "         10       0.79      0.77      0.78       399\n",
            "         11       0.75      0.63      0.69       396\n",
            "         12       0.46      0.48      0.47       393\n",
            "         13       0.71      0.65      0.68       396\n",
            "         14       0.69      0.64      0.66       394\n",
            "         15       0.62      0.70      0.66       398\n",
            "         16       0.50      0.50      0.50       364\n",
            "         17       0.85      0.67      0.75       376\n",
            "         18       0.45      0.36      0.40       310\n",
            "         19       0.29      0.21      0.24       251\n",
            "\n",
            "avg / total       0.60      0.59      0.59      7532\n",
            "\n"
          ],
          "name": "stdout"
        }
      ]
    }
  ]
}